{
 "cells": [
  {
   "cell_type": "markdown",
   "metadata": {},
   "source": [
    "# Iterators\n",
    "\n",
    "1. Separa o maneira de acessar sequencialmente os elementos (iterar) sobre um objeto da sua estrutura\n",
    "2. Permite separar a lógica de iterar sobre um objeto (sequencia que os dados serão fornecidos na iteração) da classe principal"
   ]
  },
  {
   "cell_type": "code",
   "execution_count": 1,
   "metadata": {},
   "outputs": [],
   "source": [
    "from __future__ import annotations\n",
    "from collections.abc import Iterable, Iterator\n",
    "from typing import List, Any"
   ]
  },
  {
   "cell_type": "code",
   "execution_count": 11,
   "metadata": {},
   "outputs": [],
   "source": [
    "class MyList(Iterable):\n",
    "\n",
    "    def __init__(self) -> None:\n",
    "        self._items: List[Any] = []\n",
    "\n",
    "    def add(self, value: Any):\n",
    "        self._items.append(value)\n",
    "\n",
    "    def __iter__(self):\n",
    "        return NormalIterator(self._items)\n",
    "\n",
    "    def iter_backwards(self):\n",
    "        return BackwardsIterator(self._items)\n",
    "\n",
    "    def __str__(self) -> str:\n",
    "        return f'{self.__class__.__name__}({self._items})'\n",
    "    \n",
    "    def __repr__(self) -> str:\n",
    "        return self.__str__()\n"
   ]
  },
  {
   "cell_type": "code",
   "execution_count": 3,
   "metadata": {},
   "outputs": [],
   "source": [
    "class NormalIterator(Iterator):\n",
    "\n",
    "    def __init__(self, collection: List[Any]):\n",
    "        self._collection = collection\n",
    "        self._index = 0\n",
    "\n",
    "    def __next__(self):\n",
    "        if self._index == len(self._collection):\n",
    "            raise StopIteration\n",
    "        item = self._collection[self._index]\n",
    "        self._index += 1\n",
    "        return item\n"
   ]
  },
  {
   "cell_type": "code",
   "execution_count": 4,
   "metadata": {},
   "outputs": [],
   "source": [
    "class BackwardsIterator(Iterator):\n",
    "\n",
    "    def __init__(self, collection: List[Any]) -> None:\n",
    "        self._collection = collection\n",
    "        self._index = len(self._collection) - 1\n",
    "\n",
    "    def __next__(self):\n",
    "        if self._index < 0:\n",
    "            raise StopIteration\n",
    "        item = self._collection[self._index]\n",
    "        self._index -= 1\n",
    "        return item\n"
   ]
  },
  {
   "cell_type": "code",
   "execution_count": 5,
   "metadata": {},
   "outputs": [],
   "source": [
    "my_list = MyList()\n",
    "my_list.add(1)\n",
    "my_list.add('Davi')\n",
    "my_list.add('Clovis')"
   ]
  },
  {
   "cell_type": "code",
   "execution_count": 13,
   "metadata": {},
   "outputs": [
    {
     "name": "stdout",
     "output_type": "stream",
     "text": [
      "MyList([1, 'Davi', 'Clovis'])\n"
     ]
    }
   ],
   "source": [
    "print(my_list)"
   ]
  },
  {
   "cell_type": "code",
   "execution_count": 6,
   "metadata": {},
   "outputs": [
    {
     "name": "stdout",
     "output_type": "stream",
     "text": [
      "1\n",
      "Davi\n",
      "Clovis\n"
     ]
    }
   ],
   "source": [
    "for item in my_list:\n",
    "    print(item)"
   ]
  },
  {
   "cell_type": "code",
   "execution_count": 7,
   "metadata": {},
   "outputs": [
    {
     "name": "stdout",
     "output_type": "stream",
     "text": [
      "Clovis\n",
      "Davi\n",
      "1\n"
     ]
    }
   ],
   "source": [
    "for item in my_list.iter_backwards():\n",
    "    print(item)"
   ]
  }
 ],
 "metadata": {
  "kernelspec": {
   "display_name": "Python 3.7.4 64-bit ('venv': venv)",
   "language": "python",
   "name": "python37464bitvenvvenv2758d99790f94a86be18d18ad941cbc4"
  },
  "language_info": {
   "codemirror_mode": {
    "name": "ipython",
    "version": 3
   },
   "file_extension": ".py",
   "mimetype": "text/x-python",
   "name": "python",
   "nbconvert_exporter": "python",
   "pygments_lexer": "ipython3",
   "version": "3.7.4"
  }
 },
 "nbformat": 4,
 "nbformat_minor": 4
}
