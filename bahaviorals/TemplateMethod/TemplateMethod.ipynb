{
 "cells": [
  {
   "cell_type": "markdown",
   "metadata": {},
   "source": [
    "# Template Method\n",
    "\n",
    "## Conceito\n",
    "\n",
    "1. Um método final é definido na classe abstrata. Esse método chama outros métodos abstratos da mesma classe e executa-os de forma personalizada\n",
    "\n",
    "\n",
    "2. Esses métodos abstratos serão sobrescritos nas subclasses dessa classe abstrata e, portanto, o método final definido anteriormente será executado de forma diferente para classes distintas\n",
    "\n",
    "\n",
    "3. Esse padrão permite que subclasses redefinam certas partes do template method, sem alterar sua estrutura\n",
    "\n",
    "\n",
    "## Hooks\n",
    "\n",
    "1. Métodos definidos na classe abstrata que podem ou não ser sobrescritos pelas subclasses"
   ]
  },
  {
   "cell_type": "markdown",
   "metadata": {},
   "source": [
    "### Base do padrão"
   ]
  },
  {
   "cell_type": "code",
   "execution_count": 2,
   "metadata": {},
   "outputs": [],
   "source": [
    "from abc import ABC, abstractmethod"
   ]
  },
  {
   "cell_type": "code",
   "execution_count": 15,
   "metadata": {},
   "outputs": [],
   "source": [
    "class Abstract(ABC):\n",
    "    def template_method(self):\n",
    "        self.operation1()\n",
    "        self.hook()\n",
    "        print('Estou no meio do template method')\n",
    "        self.operation2()\n",
    "    \n",
    "    @abstractmethod\n",
    "    def operation1(self): pass\n",
    "    \n",
    "    @abstractmethod\n",
    "    def operation2(self): pass\n",
    "    \n",
    "    def hook(self): pass"
   ]
  },
  {
   "cell_type": "code",
   "execution_count": 16,
   "metadata": {},
   "outputs": [],
   "source": [
    "class ConcreteClass(Abstract):\n",
    "        \n",
    "    def operation1(self):\n",
    "        print('Operação 1 concluída')\n",
    "        \n",
    "    def hook(self):\n",
    "        print('Sou uma operação opcional presente apenas na primeira classe concreta')\n",
    "    \n",
    "    def operation2(self):\n",
    "        print('Operação 2 concluída')"
   ]
  },
  {
   "cell_type": "code",
   "execution_count": 17,
   "metadata": {},
   "outputs": [],
   "source": [
    "class SecondConcreteClass(Abstract):\n",
    "        \n",
    "    def operation1(self):\n",
    "        print('Operação 1 concluída de forma diferente')\n",
    "    \n",
    "    def operation2(self):\n",
    "        print('Operação 2 concluída de forma diferente')"
   ]
  },
  {
   "cell_type": "code",
   "execution_count": 18,
   "metadata": {},
   "outputs": [
    {
     "name": "stdout",
     "output_type": "stream",
     "text": [
      "Operação 1 concluída\n",
      "Sou uma operação opcional presente apenas na primeira classe concreta\n",
      "Estou no meio do template method\n",
      "Operação 2 concluída\n",
      "\n",
      "Operação 1 concluída de forma diferente\n",
      "Estou no meio do template method\n",
      "Operação 2 concluída de forma diferente\n"
     ]
    }
   ],
   "source": [
    "c1 = ConcreteClass()\n",
    "c1.template_method()\n",
    "print()\n",
    "c2 = SecondConcreteClass()\n",
    "c2.template_method()"
   ]
  },
  {
   "cell_type": "code",
   "execution_count": null,
   "metadata": {},
   "outputs": [],
   "source": []
  }
 ],
 "metadata": {
  "kernelspec": {
   "display_name": "Python 3.7.4 64-bit ('venv': venv)",
   "language": "python",
   "name": "python37464bitvenvvenv2758d99790f94a86be18d18ad941cbc4"
  },
  "language_info": {
   "codemirror_mode": {
    "name": "ipython",
    "version": 3
   },
   "file_extension": ".py",
   "mimetype": "text/x-python",
   "name": "python",
   "nbconvert_exporter": "python",
   "pygments_lexer": "ipython3",
   "version": "3.7.4"
  }
 },
 "nbformat": 4,
 "nbformat_minor": 4
}
