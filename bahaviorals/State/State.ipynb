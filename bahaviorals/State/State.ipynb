{
 "cells": [
  {
   "attachments": {},
   "cell_type": "markdown",
   "metadata": {},
   "source": [
    "\n",
    "# Padrão state\n",
    "\n",
    "1. Cria diferentes estados para cada classe principal\n",
    "2. Cada estado implementa comportamentos (métodos) diferentes que a classe principal pode ter\n",
    "3. A classe principal tem métodos que chamam os comportamentos de cada estado de acordo com o estado que está definido nela no momento\n"
   ]
  },
  {
   "cell_type": "markdown",
   "metadata": {},
   "source": [
    "## Exemplo 1: e-commerce com diferentes estados para um pedido\n"
   ]
  },
  {
   "cell_type": "code",
   "execution_count": 1,
   "metadata": {},
   "outputs": [],
   "source": [
    "from __future__ import annotations\n",
    "from abc import ABC, abstractmethod"
   ]
  },
  {
   "cell_type": "markdown",
   "metadata": {},
   "source": [
    "Classe abstrata para os estados"
   ]
  },
  {
   "cell_type": "code",
   "execution_count": 2,
   "metadata": {},
   "outputs": [],
   "source": [
    "class OrderState(ABC):\n",
    "\n",
    "    def __init__(self, order: Order) -> None:\n",
    "        self.order = order\n",
    "\n",
    "    def show_state(self):\n",
    "        print('Current State: ', self.order.state)\n",
    "        print()\n",
    "\n",
    "    @abstractmethod\n",
    "    def handle_pending(self) -> None: pass\n",
    "\n",
    "    @abstractmethod\n",
    "    def handle_approve(self) -> None: pass\n",
    "\n",
    "    @abstractmethod\n",
    "    def handle_reject(self) -> None: pass\n",
    "\n",
    "    def __str__(self):\n",
    "        return self.__class__.__name__\n"
   ]
  },
  {
   "cell_type": "markdown",
   "metadata": {},
   "source": [
    "Classe concreta para o estado de pagamento pendente"
   ]
  },
  {
   "cell_type": "code",
   "execution_count": 3,
   "metadata": {},
   "outputs": [],
   "source": [
    "class PaymentPending(OrderState):\n",
    "\n",
    "    def handle_pending(self):\n",
    "        print('Your payment is pending already')\n",
    "        self.show_state()\n",
    "\n",
    "    def handle_approve(self):\n",
    "        print('Payment approved')\n",
    "        self.order.state = PaymentApproved(self.order)\n",
    "        self.show_state()\n",
    "\n",
    "    def handle_reject(self):\n",
    "        print('Payment rejected')\n",
    "        self.order.state = PaymentRejected(self.order)\n",
    "        self.show_state()\n"
   ]
  },
  {
   "cell_type": "markdown",
   "metadata": {},
   "source": [
    "Classe concreta para o estado de pagamento aprovado"
   ]
  },
  {
   "cell_type": "code",
   "execution_count": 4,
   "metadata": {},
   "outputs": [],
   "source": [
    "class PaymentApproved(OrderState):\n",
    "\n",
    "    def handle_pending(self):\n",
    "        print('Payment pending')\n",
    "        self.order.state = PaymentPending(self.order)\n",
    "        self.show_state()\n",
    "\n",
    "    def handle_approve(self):\n",
    "        print('Your payment is approved already')\n",
    "        self.show_state()\n",
    "\n",
    "    def handle_reject(self):\n",
    "        print('Payment rejected')\n",
    "        self.order.state = PaymentRejected(self.order)\n",
    "        self.show_state()\n"
   ]
  },
  {
   "cell_type": "markdown",
   "metadata": {},
   "source": [
    "Classe concreta para o estado de pagamento rejeitado"
   ]
  },
  {
   "cell_type": "code",
   "execution_count": 5,
   "metadata": {},
   "outputs": [],
   "source": [
    "class PaymentRejected(OrderState):\n",
    "\n",
    "    def handle_pending(self):\n",
    "        print('You payment has already been refused!')\n",
    "        self.show_state()\n",
    "\n",
    "    def handle_approve(self):\n",
    "        print('You payment has already been refused!')\n",
    "        self.show_state()\n",
    "\n",
    "    def handle_reject(self):\n",
    "        print('You payment has already been refused!')\n",
    "        self.show_state()\n"
   ]
  },
  {
   "cell_type": "markdown",
   "metadata": {},
   "source": [
    "Classe concreta da ordem em si\n",
    "1. Os métodos dessa classe chamam os métodos handle de cada estado específico"
   ]
  },
  {
   "cell_type": "code",
   "execution_count": 6,
   "metadata": {},
   "outputs": [],
   "source": [
    "class Order:\n",
    "    def __init__(self) -> None:\n",
    "        self.state: OrderState = PaymentPending(self)\n",
    "\n",
    "    def pending(self):\n",
    "        self.state.handle_pending()\n",
    "\n",
    "    def approve(self):\n",
    "        self.state.handle_approve()\n",
    "\n",
    "    def reject(self):\n",
    "        self.state.handle_reject()\n"
   ]
  },
  {
   "cell_type": "code",
   "execution_count": 7,
   "metadata": {},
   "outputs": [
    {
     "name": "stdout",
     "output_type": "stream",
     "text": [
      "Payment rejected\n",
      "Current State:  PaymentRejected\n",
      "\n",
      "You payment has already been refused!\n",
      "Current State:  PaymentRejected\n",
      "\n",
      "You payment has already been refused!\n",
      "Current State:  PaymentRejected\n",
      "\n"
     ]
    }
   ],
   "source": [
    "order = Order()\n",
    "order.reject()\n",
    "order.approve()\n",
    "order.pending()"
   ]
  },
  {
   "cell_type": "markdown",
   "metadata": {},
   "source": [
    "## Exemplo 2: tipos de uso de um aparelho de som"
   ]
  },
  {
   "cell_type": "code",
   "execution_count": 9,
   "metadata": {},
   "outputs": [],
   "source": [
    "from __future__ import annotations\n",
    "from abc import ABC, abstractmethod"
   ]
  },
  {
   "cell_type": "markdown",
   "metadata": {},
   "source": [
    "Classe abstrata para os estados"
   ]
  },
  {
   "cell_type": "code",
   "execution_count": 10,
   "metadata": {},
   "outputs": [],
   "source": [
    "class PlayMode(ABC):\n",
    "\n",
    "    def __init__(self, radio: MusicPlayer) -> None:\n",
    "        self.radio = radio\n",
    "\n",
    "    @abstractmethod\n",
    "    def next_btn(self) -> None: pass\n",
    "\n",
    "    @abstractmethod\n",
    "    def previous_btn(self) -> None: pass\n",
    "\n",
    "    @abstractmethod\n",
    "    def handle_change_mode(self) -> None: pass\n"
   ]
  },
  {
   "cell_type": "markdown",
   "metadata": {},
   "source": [
    "Classe concreta para o modo rádio"
   ]
  },
  {
   "cell_type": "code",
   "execution_count": 11,
   "metadata": {},
   "outputs": [],
   "source": [
    "class RadioMode(PlayMode):\n",
    "\n",
    "    def next_btn(self) -> None:\n",
    "        print('Going to next radio station')\n",
    "        self.radio.playing += 1000\n",
    "\n",
    "    def previous_btn(self) -> None:\n",
    "\n",
    "        if self.radio.playing == 0:\n",
    "            return\n",
    "\n",
    "        print('Going to previous radio station')\n",
    "        self.radio.playing -= 1000\n",
    "\n",
    "    def handle_change_mode(self) -> None:\n",
    "        self.radio.playing = 1\n",
    "        self.radio.play_mode = UBSMode(self.radio)\n"
   ]
  },
  {
   "cell_type": "markdown",
   "metadata": {},
   "source": [
    "Classe concreta para o modo USB"
   ]
  },
  {
   "cell_type": "code",
   "execution_count": 12,
   "metadata": {},
   "outputs": [],
   "source": [
    "class UBSMode(PlayMode):\n",
    "\n",
    "    def next_btn(self) -> None:\n",
    "        print('Passing to next sound')\n",
    "        self.radio.playing += 1\n",
    "\n",
    "    def previous_btn(self) -> None:\n",
    "\n",
    "        if self.radio.playing == 1:\n",
    "            return\n",
    "\n",
    "        print('Passing to previous sound')\n",
    "        self.radio.playing += 1\n",
    "\n",
    "    def handle_change_mode(self) -> None:\n",
    "        self.radio.playing = 0\n",
    "        self.radio.play_mode = RadioMode(self.radio)\n"
   ]
  },
  {
   "cell_type": "markdown",
   "metadata": {},
   "source": [
    "Classe concreta do rádio"
   ]
  },
  {
   "cell_type": "code",
   "execution_count": 13,
   "metadata": {},
   "outputs": [],
   "source": [
    "class MusicPlayer:\n",
    "\n",
    "    def __init__(self) -> None:\n",
    "        self.play_mode: PlayMode = RadioMode(self)\n",
    "        self.playing = 0\n",
    "\n",
    "    def press_next(self):\n",
    "        self.play_mode.next_btn()\n",
    "\n",
    "    def press_previous(self):\n",
    "        self.play_mode.previous_btn()\n",
    "\n",
    "    def change_mode(self):\n",
    "        self.play_mode.handle_change_mode()\n",
    "\n",
    "    def __str__(self):\n",
    "        return f'Playing {self.playing}'\n"
   ]
  },
  {
   "cell_type": "code",
   "execution_count": 14,
   "metadata": {},
   "outputs": [
    {
     "name": "stdout",
     "output_type": "stream",
     "text": [
      "Going to next radio station\n",
      "Going to next radio station\n",
      "Going to previous radio station\n",
      "Playing 1000\n",
      "\n",
      "Passing to next sound\n",
      "Passing to next sound\n",
      "Passing to next sound\n",
      "Playing 4\n"
     ]
    }
   ],
   "source": [
    "player = MusicPlayer()\n",
    "player.press_next()\n",
    "player.press_next()\n",
    "player.press_previous()\n",
    "print(player)\n",
    "print()\n",
    "player.change_mode()\n",
    "player.press_next()\n",
    "player.press_next()\n",
    "player.press_next()\n",
    "print(player)\n"
   ]
  }
 ],
 "metadata": {
  "kernelspec": {
   "display_name": "Python 3.7.4 64-bit ('venv': venv)",
   "language": "python",
   "name": "python37464bitvenvvenv2758d99790f94a86be18d18ad941cbc4"
  },
  "language_info": {
   "codemirror_mode": {
    "name": "ipython",
    "version": 3
   },
   "file_extension": ".py",
   "mimetype": "text/x-python",
   "name": "python",
   "nbconvert_exporter": "python",
   "pygments_lexer": "ipython3",
   "version": "3.7.4"
  }
 },
 "nbformat": 4,
 "nbformat_minor": 4
}
