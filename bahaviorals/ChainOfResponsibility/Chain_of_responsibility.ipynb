{
 "cells": [
  {
   "cell_type": "markdown",
   "metadata": {},
   "source": [
    "# Chain of responsibility"
   ]
  },
  {
   "cell_type": "markdown",
   "metadata": {},
   "source": [
    "Os valores passam por uma cadeia de métodos que lidam de forma específica com a requisição\n",
    "Essa cadeia pode:\n",
    "1. Para a cadeia ao conseguir tratar a requisição\n",
    "2. Passa a requisição pelo resto da cadeira mesmo se conseguir tratá-la\n",
    "3. Retonar ou não o valor original caso ele não foi posíve tratá-lo"
   ]
  },
  {
   "cell_type": "markdown",
   "metadata": {},
   "source": [
    "## Implementando com funções"
   ]
  },
  {
   "cell_type": "code",
   "execution_count": 7,
   "metadata": {},
   "outputs": [],
   "source": [
    "def handler_ABC(letter: str) -> str:\n",
    "    letters = ('A', 'B', 'C')\n",
    "    if letter in letters:\n",
    "        return f'The value {letter} was handled in the FIRST function'\n",
    "    \n",
    "    return handler_DEF(letter)\n",
    "\n",
    "def handler_DEF(letter: str) -> str:\n",
    "    letters = ('D', 'E', 'F')\n",
    "    if letter in letters:\n",
    "        return f'The value {letter} was handled in the SECOND function'\n",
    "    return handler_unsolved(letter)\n",
    "\n",
    "def handler_unsolved(letter: str) -> str:\n",
    "    return f'The chain could not handle the value {letter}'"
   ]
  },
  {
   "cell_type": "code",
   "execution_count": 8,
   "metadata": {},
   "outputs": [
    {
     "data": {
      "text/plain": [
       "'The value A was handled in the FIRST function'"
      ]
     },
     "execution_count": 8,
     "metadata": {},
     "output_type": "execute_result"
    }
   ],
   "source": [
    "handler_ABC('A')"
   ]
  },
  {
   "cell_type": "code",
   "execution_count": 9,
   "metadata": {},
   "outputs": [
    {
     "data": {
      "text/plain": [
       "'The value D was handled in the SECOND function'"
      ]
     },
     "execution_count": 9,
     "metadata": {},
     "output_type": "execute_result"
    }
   ],
   "source": [
    "handler_ABC('D')"
   ]
  },
  {
   "cell_type": "code",
   "execution_count": 10,
   "metadata": {},
   "outputs": [
    {
     "data": {
      "text/plain": [
       "'The chain could not handle the value J'"
      ]
     },
     "execution_count": 10,
     "metadata": {},
     "output_type": "execute_result"
    }
   ],
   "source": [
    "handler_ABC('J')"
   ]
  },
  {
   "cell_type": "markdown",
   "metadata": {},
   "source": [
    "## Implementando com classes"
   ]
  },
  {
   "cell_type": "code",
   "execution_count": 11,
   "metadata": {},
   "outputs": [],
   "source": [
    "from abc import ABC, abstractmethod\n"
   ]
  },
  {
   "cell_type": "markdown",
   "metadata": {},
   "source": [
    "Classe abstrata para um handler"
   ]
  },
  {
   "cell_type": "code",
   "execution_count": 12,
   "metadata": {},
   "outputs": [],
   "source": [
    "class Handler(ABC):\n",
    "\n",
    "    def __init__(self):\n",
    "        self.successor: Handler\n",
    "\n",
    "    @abstractmethod\n",
    "    def handle(self, letter: str) -> str: pass\n",
    "\n"
   ]
  },
  {
   "cell_type": "markdown",
   "metadata": {},
   "source": [
    "Classes concreta para um handler\n",
    "1. Recebe um sucessor que será chamado caso a requisição não seja lidada"
   ]
  },
  {
   "cell_type": "code",
   "execution_count": 13,
   "metadata": {},
   "outputs": [],
   "source": [
    "class HandleABC(Handler):\n",
    "\n",
    "    def __init__(self, successor: Handler):\n",
    "        self.letters = ('A', 'B', 'C')\n",
    "        self.successor = successor\n",
    "\n",
    "    def handle(self, letter: str) -> str:\n",
    "        if letter in self.letters:\n",
    "            return f'The class HandlerABC cold handle with the value {letter}'\n",
    "        return self.successor.handle(letter)\n"
   ]
  },
  {
   "cell_type": "code",
   "execution_count": 14,
   "metadata": {},
   "outputs": [],
   "source": [
    "class HandleDEF(Handler):\n",
    "\n",
    "    def __init__(self, successor: Handler):\n",
    "        self.letters = 'D', 'E', 'F'\n",
    "        self.successor = successor\n",
    "\n",
    "    def handle(self, letter: str) -> str:\n",
    "        if letter in self.letters:\n",
    "            return f'The class HandlerDEF could handle with the value {letter}'\n",
    "        return self.successor.handle(letter)\n"
   ]
  },
  {
   "cell_type": "code",
   "execution_count": 15,
   "metadata": {},
   "outputs": [],
   "source": [
    "class HandlerUnsolved(Handler):\n",
    "    def handle(self, letter: str) -> str:\n",
    "        return f'The value {letter} could not be handled in the chain'\n"
   ]
  },
  {
   "cell_type": "code",
   "execution_count": 17,
   "metadata": {},
   "outputs": [],
   "source": [
    "unsolved = HandlerUnsolved()\n",
    "second_handler = HandleDEF(unsolved)\n",
    "first_handler = HandleABC(second_handler)"
   ]
  },
  {
   "cell_type": "code",
   "execution_count": 18,
   "metadata": {},
   "outputs": [
    {
     "data": {
      "text/plain": [
       "'The class HandlerABC cold handle with the value A'"
      ]
     },
     "execution_count": 18,
     "metadata": {},
     "output_type": "execute_result"
    }
   ],
   "source": [
    "first_handler.handle('A')"
   ]
  },
  {
   "cell_type": "markdown",
   "metadata": {},
   "source": [
    "No caso acima, a primeira classe já conseguiu lidar com o valor passado"
   ]
  },
  {
   "cell_type": "code",
   "execution_count": 19,
   "metadata": {},
   "outputs": [
    {
     "data": {
      "text/plain": [
       "'The class HandlerDEF could handle with the value D'"
      ]
     },
     "execution_count": 19,
     "metadata": {},
     "output_type": "execute_result"
    }
   ],
   "source": [
    "first_handler.handle('D')"
   ]
  },
  {
   "cell_type": "markdown",
   "metadata": {},
   "source": [
    "No caso acima, mesmo chamando o método da primeira classe, a requisição doi lidada na segunda"
   ]
  },
  {
   "cell_type": "code",
   "execution_count": 21,
   "metadata": {},
   "outputs": [
    {
     "data": {
      "text/plain": [
       "'The value B could not be handled in the chain'"
      ]
     },
     "execution_count": 21,
     "metadata": {},
     "output_type": "execute_result"
    }
   ],
   "source": [
    "second_handler.handle('B')"
   ]
  },
  {
   "cell_type": "markdown",
   "metadata": {},
   "source": [
    "No caso acima, por ter começado pelo segundo handler, o valor B, por ser lidado no primeiro, não conseguiu ser tratano na cadeia\n",
    "Ou seja, é possível começar por qualquer handler"
   ]
  }
 ],
 "metadata": {
  "kernelspec": {
   "display_name": "Python 3.7.4 64-bit ('venv': venv)",
   "language": "python",
   "name": "python37464bitvenvvenv2758d99790f94a86be18d18ad941cbc4"
  },
  "language_info": {
   "codemirror_mode": {
    "name": "ipython",
    "version": 3
   },
   "file_extension": ".py",
   "mimetype": "text/x-python",
   "name": "python",
   "nbconvert_exporter": "python",
   "pygments_lexer": "ipython3",
   "version": "3.7.4"
  }
 },
 "nbformat": 4,
 "nbformat_minor": 4
}
