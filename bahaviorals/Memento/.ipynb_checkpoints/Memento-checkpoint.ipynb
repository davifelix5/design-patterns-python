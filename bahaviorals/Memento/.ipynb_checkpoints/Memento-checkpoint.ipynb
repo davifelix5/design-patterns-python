{
 "cells": [
  {
   "cell_type": "markdown",
   "metadata": {},
   "source": [
    "# Memento\n",
    "1. Permitir que estados de um objeto originator sejam saldos e restaurados a qualquer momento sem que sejam quebrados os principios de encapsulamento\n",
    "\n",
    "### Objetos\n",
    "1. Origitanor: objeto cujo estado é necesário salvar \n",
    "2. Memento: objeto que ira salvar os estados do originator\n",
    "3. Caretaker: salva os mementos (utiliza o padrão command) "
   ]
  },
  {
   "cell_type": "code",
   "execution_count": 1,
   "metadata": {},
   "outputs": [],
   "source": [
    "from __future__ import annotations\n",
    "from copy import deepcopy\n",
    "from typing import Dict, List\n"
   ]
  },
  {
   "cell_type": "code",
   "execution_count": 2,
   "metadata": {},
   "outputs": [],
   "source": [
    "class Memento:\n",
    "    def __init__(self, state: Dict) -> None:\n",
    "        self._state: Dict\n",
    "        # Setando atributo de uma classe imutável\n",
    "        super().__setattr__('_state', state)\n",
    "\n",
    "    def get_state(self) -> Dict:\n",
    "        return self._state\n",
    "\n",
    "    def __setattr__(self, name, value) -> None:\n",
    "        raise AttributeError('This class is immutable')\n"
   ]
  },
  {
   "cell_type": "code",
   "execution_count": 3,
   "metadata": {},
   "outputs": [],
   "source": [
    "class ImageEditor:\n",
    "\n",
    "    def __init__(self, name: str, width: int, height: int) -> None:\n",
    "        self.name = name\n",
    "        self.width = width\n",
    "        self.height = height\n",
    "\n",
    "    def save_state(self) -> Memento:\n",
    "        return Memento(deepcopy(self.__dict__))\n",
    "\n",
    "    def restore(self, memento: Memento) -> None:\n",
    "        self.__dict__ = memento.get_state()\n",
    "\n",
    "    def __str__(self):\n",
    "        params = ', '.join([f'{k}={v}' for k, v in self.__dict__.items()])\n",
    "        return f'{self.__class__.__name__}({params})'\n",
    "\n",
    "    def __repr__(self):\n",
    "        return self.__str__()\n",
    "\n"
   ]
  },
  {
   "cell_type": "code",
   "execution_count": 4,
   "metadata": {},
   "outputs": [],
   "source": [
    "class CareTaker:\n",
    "    def __init__(self, originator: ImageEditor):\n",
    "        self._originator = originator\n",
    "        self._mementos: List[Memento] = []\n",
    "\n",
    "    def backup(self) -> None:\n",
    "        self._mementos.append(self._originator.save_state())\n",
    "\n",
    "    def restore(self) -> None:\n",
    "\n",
    "        if not self._mementos:\n",
    "            return\n",
    "\n",
    "        self._originator.restore(self._mementos.pop())\n"
   ]
  },
  {
   "cell_type": "code",
   "execution_count": 5,
   "metadata": {},
   "outputs": [],
   "source": [
    "img = ImageEditor('foto1.jpg', 200, 100)\n",
    "care_taker = CareTaker(img)"
   ]
  },
  {
   "cell_type": "code",
   "execution_count": 6,
   "metadata": {},
   "outputs": [],
   "source": [
    "care_taker.backup()"
   ]
  },
  {
   "cell_type": "code",
   "execution_count": 7,
   "metadata": {},
   "outputs": [],
   "source": [
    "img.width = 1000\n",
    "img.height = 500\n",
    "care_taker.backup()"
   ]
  },
  {
   "cell_type": "code",
   "execution_count": 8,
   "metadata": {},
   "outputs": [],
   "source": [
    "img.width = 2000\n",
    "img.height = 1000"
   ]
  },
  {
   "cell_type": "code",
   "execution_count": 9,
   "metadata": {},
   "outputs": [],
   "source": [
    "care_taker.restore()"
   ]
  },
  {
   "cell_type": "code",
   "execution_count": 10,
   "metadata": {},
   "outputs": [
    {
     "data": {
      "text/plain": [
       "ImageEditor(name=foto1.jpg, width=1000, height=500)"
      ]
     },
     "execution_count": 10,
     "metadata": {},
     "output_type": "execute_result"
    }
   ],
   "source": [
    "img"
   ]
  },
  {
   "cell_type": "code",
   "execution_count": 11,
   "metadata": {},
   "outputs": [],
   "source": [
    "care_taker.restore()"
   ]
  },
  {
   "cell_type": "code",
   "execution_count": 12,
   "metadata": {},
   "outputs": [
    {
     "data": {
      "text/plain": [
       "ImageEditor(name=foto1.jpg, width=200, height=100)"
      ]
     },
     "execution_count": 12,
     "metadata": {},
     "output_type": "execute_result"
    }
   ],
   "source": [
    "img"
   ]
  },
  {
   "cell_type": "code",
   "execution_count": null,
   "metadata": {},
   "outputs": [],
   "source": []
  }
 ],
 "metadata": {
  "kernelspec": {
   "display_name": "Python 3.7.4 64-bit ('venv': venv)",
   "language": "python",
   "name": "python37464bitvenvvenv2758d99790f94a86be18d18ad941cbc4"
  },
  "language_info": {
   "codemirror_mode": {
    "name": "ipython",
    "version": 3
   },
   "file_extension": ".py",
   "mimetype": "text/x-python",
   "name": "python",
   "nbconvert_exporter": "python",
   "pygments_lexer": "ipython3",
   "version": "3.7.4"
  }
 },
 "nbformat": 4,
 "nbformat_minor": 4
}
