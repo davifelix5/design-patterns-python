{
 "cells": [
  {
   "cell_type": "markdown",
   "metadata": {},
   "source": [
    "# Bridge\n",
    "\n",
    "Permite separar a abstração (elemento utilizado para utilizar as funcionalidades de um objeto) das implementações (as funcionalidades em si de um objeto)\n",
    "\n",
    "Por exemplo: separa o controle remoto da televisão, permitindo declarar mais facilmente diferentes tipos de controle\n",
    "\n",
    "O controle recebe a televisão e faz operações com ela de acordo com as requisições do cliente, que não mexe na classe televisão em si"
   ]
  },
  {
   "cell_type": "code",
   "execution_count": 18,
   "metadata": {},
   "outputs": [],
   "source": [
    "from __future__ import annotations\n",
    "from abc import ABC, abstractmethod\n"
   ]
  },
  {
   "cell_type": "code",
   "execution_count": 19,
   "metadata": {},
   "outputs": [],
   "source": [
    "class iRemoteControl(ABC):\n",
    "\n",
    "    @abstractmethod\n",
    "    def volume_up(self) -> None: pass\n",
    "\n",
    "    @abstractmethod\n",
    "    def volume_down(self) -> None: pass\n",
    "\n",
    "    @abstractmethod\n",
    "    def power(self) -> None: pass\n",
    "\n"
   ]
  },
  {
   "cell_type": "code",
   "execution_count": 20,
   "metadata": {},
   "outputs": [],
   "source": [
    "class RemoteControl(iRemoteControl):\n",
    "\n",
    "    def __init__(self, device: iDevice):\n",
    "        self._implementor = device\n",
    "\n",
    "    def volume_up(self) -> None:\n",
    "        self._implementor.volume += 10\n",
    "\n",
    "    def volume_down(self) -> None:\n",
    "        self._implementor.volume -= 10\n",
    "\n",
    "    def power(self) -> None:\n",
    "        self._implementor.power = not self._implementor.power\n"
   ]
  },
  {
   "cell_type": "code",
   "execution_count": 21,
   "metadata": {},
   "outputs": [],
   "source": [
    "class iDevice(ABC):\n",
    "\n",
    "    @property\n",
    "    @abstractmethod\n",
    "    def volume(self) -> int: pass\n",
    "\n",
    "    @volume.setter\n",
    "    def volume(self, value: int) -> None: pass\n",
    "\n",
    "    @property\n",
    "    @abstractmethod\n",
    "    def power(self) -> bool: pass\n",
    "\n",
    "    @power.setter\n",
    "    def power(self, value: bool) -> None: pass\n"
   ]
  },
  {
   "cell_type": "code",
   "execution_count": 22,
   "metadata": {},
   "outputs": [],
   "source": [
    "class Television(iDevice):\n",
    "\n",
    "    def __init__(self):\n",
    "        self._volume = 50\n",
    "        self._power = False\n",
    "\n",
    "    @property\n",
    "    def volume(self) -> int:\n",
    "        return self._volume\n",
    "\n",
    "    @volume.setter\n",
    "    def volume(self, value: int) -> None:\n",
    "        \n",
    "        if not self._power:\n",
    "            return\n",
    "        \n",
    "        if value > 100 or value < 0:\n",
    "            return\n",
    "        \n",
    "        self._volume = value\n",
    "        print(f'Current volume: {self._volume}')\n",
    "\n",
    "    @property\n",
    "    def power(self) -> bool:\n",
    "        return self._power\n",
    "\n",
    "    @power.setter\n",
    "    def power(self, value: bool) -> None:\n",
    "        self._power = value\n",
    "        print(f'The TV is {\"on\" if value else \"off\"}')\n"
   ]
  },
  {
   "cell_type": "code",
   "execution_count": 23,
   "metadata": {},
   "outputs": [],
   "source": [
    "tv = Television()\n",
    "remote = RemoteControl(tv)"
   ]
  },
  {
   "cell_type": "code",
   "execution_count": 24,
   "metadata": {},
   "outputs": [
    {
     "name": "stdout",
     "output_type": "stream",
     "text": [
      "The TV is on\n",
      "Current volume: 60\n"
     ]
    }
   ],
   "source": [
    "remote.volume_up()\n",
    "remote.power()\n",
    "remote.volume_up()"
   ]
  },
  {
   "cell_type": "code",
   "execution_count": 26,
   "metadata": {},
   "outputs": [
    {
     "name": "stdout",
     "output_type": "stream",
     "text": [
      "Current volume: 50\n"
     ]
    }
   ],
   "source": [
    "remote.volume_down()"
   ]
  }
 ],
 "metadata": {
  "kernelspec": {
   "display_name": "Python 3.7.4 64-bit ('venv': venv)",
   "language": "python",
   "name": "python37464bitvenvvenv2758d99790f94a86be18d18ad941cbc4"
  },
  "language_info": {
   "codemirror_mode": {
    "name": "ipython",
    "version": 3
   },
   "file_extension": ".py",
   "mimetype": "text/x-python",
   "name": "python",
   "nbconvert_exporter": "python",
   "pygments_lexer": "ipython3",
   "version": "3.7.4"
  }
 },
 "nbformat": 4,
 "nbformat_minor": 4
}
