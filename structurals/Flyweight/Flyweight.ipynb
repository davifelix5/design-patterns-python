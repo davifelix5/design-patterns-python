{
 "cells": [
  {
   "cell_type": "markdown",
   "metadata": {},
   "source": [
    "# Flyweight\n",
    "\n",
    "1. Usar compartilhamento para suportar melhor grandes quantidades de objetos, dando maior eficiência à aplicação\n",
    "2. O objeto flyweight é um objeto com caracterísitcas comuns a diversos objetos da aplicação, sendo compartilhado entre diversos outros objetos da aplicação\n",
    "3. Permite criar vários objetos iguais (compartilham muitos dados intrinsecos) que têm alguns objetos extrínsecos particulares\n",
    "\n",
    "## Quando usar\n",
    "1. Presença de muitos objetos repetidos\n",
    "2. Alto custo de armazenamento\n",
    "3. Muitos estados que podem se tornar extrínsecos\n",
    "4. Muitos objetos podem ser substituídos por poucos objetos compartilhados\n",
    "\n",
    "## Classes\n",
    "\n",
    "1. FlyweigthFactory: permite impedir a criação de objetos repetidos\n",
    "\n",
    "### Techos de https://refactoring.guru/pt-br/design-patterns/flyweight\n",
    "\n",
    "1. somente o estado intrínseco fica dentro do objeto, permitindo que você o reutilize em diferentes contextos. Como resultado, você vai precisar de menos desses objetos uma vez que eles diferem apenas em seu estado intrínseco, que tem menos variações que o extrínseco.\n",
    "2. milhares de objetos contextuais podem reutilizar um único objeto flyweight pesado ao invés de armazenar milhares de cópias de seus dados\n",
    "\n"
   ]
  },
  {
   "cell_type": "code",
   "execution_count": 2,
   "metadata": {},
   "outputs": [],
   "source": [
    "from __future__ import annotations\n",
    "from typing import List, Dict\n"
   ]
  },
  {
   "cell_type": "code",
   "execution_count": 3,
   "metadata": {},
   "outputs": [],
   "source": [
    "class Client:\n",
    "\n",
    "    def __init__(self, name: str) -> None:\n",
    "        self.name = name\n",
    "        # Intrinsic address data\n",
    "        self._addresses: List[Address] = []\n",
    "        # Extrinsic address data\n",
    "        self.address_number: str\n",
    "        self.address_details: str\n",
    "\n",
    "    def add_address(self, address: Address) -> None:\n",
    "        self._addresses.append(address)\n",
    "\n",
    "    def list_addresses(self) -> None:\n",
    "        for address in self._addresses:\n",
    "            address.show_address(self.address_number, self.address_details)\n"
   ]
  },
  {
   "cell_type": "code",
   "execution_count": 4,
   "metadata": {},
   "outputs": [],
   "source": [
    "class Address:\n",
    "    \"\"\"\n",
    "    Flyweigth Object\n",
    "    \"\"\"\n",
    "\n",
    "    def __init__(self, street: str, neighborhood: str, zip_code: str) -> None:\n",
    "        self._street = street\n",
    "        self._neighborhood = neighborhood\n",
    "        self._zip_code = zip_code\n",
    "\n",
    "    def show_address(self, address_number: str, address_details: str) -> None:\n",
    "        print(\n",
    "            self._street,\n",
    "            address_number,\n",
    "            address_details,\n",
    "            self._neighborhood,\n",
    "            self._zip_code\n",
    "        )\n"
   ]
  },
  {
   "cell_type": "code",
   "execution_count": 5,
   "metadata": {},
   "outputs": [],
   "source": [
    "class AddressFactory:\n",
    "    _addresses: Dict = {}\n",
    "\n",
    "    @staticmethod\n",
    "    def get_key(**kwargs):\n",
    "        return ''.join(kwargs.values())\n",
    "\n",
    "    def get_address(self, **kwargs):\n",
    "        key = self.get_key(**kwargs)\n",
    "\n",
    "        try:\n",
    "            address_flyweight = self._addresses[key]\n",
    "            print('Usando um objeto ja criado')\n",
    "        except KeyError:\n",
    "            print('Creating a new object')\n",
    "            address_flyweight = Address(**kwargs)\n",
    "            self._addresses[key] = address_flyweight\n",
    "\n",
    "        return address_flyweight\n"
   ]
  },
  {
   "cell_type": "code",
   "execution_count": 6,
   "metadata": {},
   "outputs": [
    {
     "name": "stdout",
     "output_type": "stream",
     "text": [
      "Creating a new object\n",
      "Usando um objeto ja criado\n",
      "Rua Rocha 2005 ap. 401 Bela Vista 01313-000\n",
      "Rua Rocha 250A ap. 805 Bela Vista 01313-000\n"
     ]
    }
   ],
   "source": [
    "address_factory = AddressFactory()\n",
    "address = address_factory.get_address(\n",
    "    street='Rua Rocha',\n",
    "    neighborhood='Bela Vista',\n",
    "    zip_code='01313-000'\n",
    ")\n",
    "address2 = address_factory.get_address(\n",
    "    street='Rua Rocha',\n",
    "    neighborhood='Bela Vista',\n",
    "    zip_code='01313-000'\n",
    ")\n",
    "\n",
    "davi = Client('Davi')\n",
    "davi.add_address(address)\n",
    "davi.address_number = '2005'\n",
    "davi.address_details = 'ap. 401'\n",
    "davi.list_addresses()\n",
    "\n",
    "carla = Client('Carla')\n",
    "carla.add_address(address)\n",
    "carla.address_number = '250A'\n",
    "carla.address_details = 'ap. 805'\n",
    "carla.list_addresses()"
   ]
  },
  {
   "cell_type": "code",
   "execution_count": 8,
   "metadata": {},
   "outputs": [
    {
     "data": {
      "text/plain": [
       "True"
      ]
     },
     "execution_count": 8,
     "metadata": {},
     "output_type": "execute_result"
    }
   ],
   "source": [
    "address == address2"
   ]
  }
 ],
 "metadata": {
  "kernelspec": {
   "display_name": "Python 3.7.4 64-bit ('venv': venv)",
   "language": "python",
   "name": "python37464bitvenvvenv2758d99790f94a86be18d18ad941cbc4"
  },
  "language_info": {
   "codemirror_mode": {
    "name": "ipython",
    "version": 3
   },
   "file_extension": ".py",
   "mimetype": "text/x-python",
   "name": "python",
   "nbconvert_exporter": "python",
   "pygments_lexer": "ipython3",
   "version": "3.7.4"
  }
 },
 "nbformat": 4,
 "nbformat_minor": 4
}
