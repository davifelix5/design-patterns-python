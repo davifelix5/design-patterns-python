{
 "cells": [
  {
   "cell_type": "markdown",
   "metadata": {},
   "source": [
    "# Proxy    \n",
    "\n",
    "1. Tem a intenção de fornecer um objeto substituto que atua como o objeto que o cliente deseja utilizar\n",
    "2. Receberá as solicitações e terá como filtrar as solicitações que serão passadas para o objeto real\n",
    "3. Implementa a mesma interface do objeto real\n",
    "4. Se você precisa executar alguma coisa tanto antes como depois da lógica primária da classe, o proxy permite que você faça isso sem mudar aquela classe. \n",
    "5. Uma vez que o proxy implementa a mesma interface que a classe original, ele pode ser passado para qualquer cliente que espera um objeto do serviço real.\n",
    "\n",
    "## Tipos de proxy\n",
    "\n",
    "1. Virtual: gerenciar acesso a elementos que podem pesar para o sistema, permite a utilização de cache\n",
    "2. Remoto: controla acesso a recursos externos\n",
    "3. Proteção: controla acesso a recursos que necessitam de permissão\n",
    "4. Inteligente: executa tarefas adicionais para saber quando e como executar as informações\n",
    "\n",
    "## Utilizades: muito versátil\n",
    "\n",
    "1. Criar logs\n",
    "2. Criar logs\n",
    "3. Autenticar usuários\n",
    "4. Destruir objetos\n",
    "5. Adiar execuções"
   ]
  },
  {
   "cell_type": "code",
   "execution_count": 2,
   "metadata": {},
   "outputs": [],
   "source": [
    "from __future__ import annotations\n",
    "from abc import ABC, abstractmethod\n",
    "from time import sleep\n",
    "from typing import List, Dict\n"
   ]
  },
  {
   "cell_type": "code",
   "execution_count": 3,
   "metadata": {},
   "outputs": [],
   "source": [
    "class iUser(ABC):\n",
    "\n",
    "    @abstractmethod\n",
    "    def get_addresses(self) -> List[Dict]: pass\n",
    "\n",
    "    @abstractmethod\n",
    "    def get_all_user_data(self) -> Dict: pass\n"
   ]
  },
  {
   "cell_type": "markdown",
   "metadata": {},
   "source": [
    "### Real subject"
   ]
  },
  {
   "cell_type": "code",
   "execution_count": 4,
   "metadata": {},
   "outputs": [],
   "source": [
    "class User(iUser):\n",
    "    def __init__(self, firstname: str, lastname: str):\n",
    "        print('Fazendo requisicao...')\n",
    "        sleep(1)  # Simulando requisicao na base dados\n",
    "        self.firstname = firstname\n",
    "        self.lastname = lastname\n",
    "\n",
    "    def get_addresses(self) -> List[Dict]:\n",
    "        print('Fazendo requisicao...')\n",
    "        sleep(1)  # Simulando requisicao\n",
    "        return [\n",
    "            {'rua': 'Av. 9 de Julho', 'numero': 2005}\n",
    "        ]\n",
    "\n",
    "    def get_all_user_data(self) -> Dict:\n",
    "        print('Fazendo requisicao...')\n",
    "        sleep(2)  # Simulando requisicao\n",
    "        return {'cpf': '125.134.532-23', 'rg': 'AB111222333'}\n"
   ]
  },
  {
   "cell_type": "markdown",
   "metadata": {},
   "source": [
    "### Proxy Object"
   ]
  },
  {
   "cell_type": "markdown",
   "metadata": {},
   "source": [
    "1. Esse objeto é uma cópia do User, mas ele faz uma <i>lazy instanciantion</i>, o que permite a formação de cache\n",
    "\n",
    "2. Já que o objeto user demora para ser criado, o usuário não é instanciado na hora em que o Proxy é instanciado, mas apenas quanfo for necessário\n",
    "\n",
    "3. Quando ao valores de consulta, que demoram para ser objetidos, eles são armazenados em variáveis que também não seo declaradas na hora da instanciação, mas só quando são chamadas. Além disso, depois de declaradas uma vez, caso a requisição seja feita novamente, a consulta não é feita denovo, hanvedo a formação de um comportamento de cache."
   ]
  },
  {
   "cell_type": "code",
   "execution_count": 5,
   "metadata": {},
   "outputs": [],
   "source": [
    "class UserProxy(iUser):\n",
    "\n",
    "    def __init__(self, firstname: str, lastname: str) -> None:\n",
    "        self.firstname = firstname\n",
    "        self.lastname = lastname\n",
    "\n",
    "        self._real_user: User  # Lazy instanciantion\n",
    "        self._cached_addresses: List[Dict]  # Lazy avaluation\n",
    "        self._cached_user_data: Dict  # Lazy avaluation\n",
    "\n",
    "    def get_real_user(self) -> None:\n",
    "        if not hasattr(self, '_real_user'):\n",
    "            self._real_user = User(self.firstname, self.lastname)\n",
    "\n",
    "    def get_addresses(self) -> List[Dict]:\n",
    "        self.get_real_user()\n",
    "        if not hasattr(self, '_cached_addresses'):\n",
    "            self._cached_addresses = self._real_user.get_addresses()\n",
    "        return self._cached_addresses\n",
    "\n",
    "    def get_all_user_data(self) -> Dict:\n",
    "        self.get_real_user()\n",
    "        if not hasattr(self, '_cached_user_data'):\n",
    "            self._cached_user_data = self._real_user.get_all_user_data()\n",
    "        return self._cached_user_data"
   ]
  },
  {
   "cell_type": "code",
   "execution_count": 6,
   "metadata": {},
   "outputs": [],
   "source": [
    "davi = UserProxy('Davi', 'Felix')"
   ]
  },
  {
   "cell_type": "markdown",
   "metadata": {},
   "source": [
    "### A requisição será feita para instanciar o objeto real e fazer a requisição de seus dados"
   ]
  },
  {
   "cell_type": "code",
   "execution_count": 7,
   "metadata": {},
   "outputs": [
    {
     "name": "stdout",
     "output_type": "stream",
     "text": [
      "Fazendo requisicao...\n",
      "Fazendo requisicao...\n"
     ]
    },
    {
     "data": {
      "text/plain": [
       "{'cpf': '125.134.532-23', 'rg': 'AB111222333'}"
      ]
     },
     "execution_count": 7,
     "metadata": {},
     "output_type": "execute_result"
    }
   ],
   "source": [
    "davi.get_all_user_data()"
   ]
  },
  {
   "cell_type": "markdown",
   "metadata": {},
   "source": [
    "#### A requisição será feita apenas para pegar os endereços, pois o usuário real já foi instanciado"
   ]
  },
  {
   "cell_type": "code",
   "execution_count": 8,
   "metadata": {},
   "outputs": [
    {
     "name": "stdout",
     "output_type": "stream",
     "text": [
      "Fazendo requisicao...\n"
     ]
    },
    {
     "data": {
      "text/plain": [
       "[{'rua': 'Av. 9 de Julho', 'numero': 2005}]"
      ]
     },
     "execution_count": 8,
     "metadata": {},
     "output_type": "execute_result"
    }
   ],
   "source": [
    "davi.get_addresses()"
   ]
  },
  {
   "cell_type": "markdown",
   "metadata": {},
   "source": [
    "#### A requisição não será mais feita, pois está tudo armazenado em cache :D"
   ]
  },
  {
   "cell_type": "code",
   "execution_count": 9,
   "metadata": {},
   "outputs": [
    {
     "data": {
      "text/plain": [
       "{'cpf': '125.134.532-23', 'rg': 'AB111222333'}"
      ]
     },
     "execution_count": 9,
     "metadata": {},
     "output_type": "execute_result"
    }
   ],
   "source": [
    "davi.get_all_user_data()"
   ]
  }
 ],
 "metadata": {
  "kernelspec": {
   "display_name": "Python 3.7.4 64-bit ('venv': venv)",
   "language": "python",
   "name": "python37464bitvenvvenv2758d99790f94a86be18d18ad941cbc4"
  },
  "language_info": {
   "codemirror_mode": {
    "name": "ipython",
    "version": 3
   },
   "file_extension": ".py",
   "mimetype": "text/x-python",
   "name": "python",
   "nbconvert_exporter": "python",
   "pygments_lexer": "ipython3",
   "version": "3.7.4"
  }
 },
 "nbformat": 4,
 "nbformat_minor": 4
}
