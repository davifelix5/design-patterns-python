{
 "cells": [
  {
   "cell_type": "markdown",
   "metadata": {},
   "source": [
    "# Adapter\n",
    "\n",
    "1. Usado para adaptar o projeto quando o código cliente não pode usar algum serviço oferecido por outra classe que é implementada ao código\n",
    "2. Para isso, a classe Adapter é criada. Essa classe implementa o código cliente que precisa ser adaptado e encobre (wraps) o novo serviço que será implementado.\n",
    "3. Assim, quando o cliente chama algum de seus métodos, ele passa pelo método do adaptador, que o molda de acordo com as necessidades do novo serviço\n"
   ]
  },
  {
   "cell_type": "code",
   "execution_count": 2,
   "metadata": {},
   "outputs": [],
   "source": [
    "from abc import ABC, abstractmethod"
   ]
  },
  {
   "cell_type": "markdown",
   "metadata": {},
   "source": [
    "### Classe antiga"
   ]
  },
  {
   "cell_type": "code",
   "execution_count": 3,
   "metadata": {},
   "outputs": [],
   "source": [
    "class iGameControl(ABC):\n",
    "\n",
    "    @abstractmethod\n",
    "    def left(self) -> None: pass\n",
    "\n",
    "    @abstractmethod\n",
    "    def right(self) -> None: pass\n",
    "\n",
    "    @abstractmethod\n",
    "    def down(self) -> None: pass\n",
    "\n",
    "    @abstractmethod\n",
    "    def up(self) -> None: pass\n",
    "\n",
    "\n",
    "class GameControl(iGameControl):\n",
    "\n",
    "    def left(self) -> None:\n",
    "        print('Moving left')\n",
    "\n",
    "    def right(self) -> None:\n",
    "        print('Moving right')\n",
    "\n",
    "    def down(self) -> None:\n",
    "        print('Moving down')\n",
    "\n",
    "    def up(self) -> None:\n",
    "        print('Moving up')\n"
   ]
  },
  {
   "cell_type": "markdown",
   "metadata": {},
   "source": [
    "### Nova classe criada"
   ]
  },
  {
   "cell_type": "code",
   "execution_count": 4,
   "metadata": {},
   "outputs": [],
   "source": [
    "class NewGameControl:\n",
    "\n",
    "    def move_left(self) -> None:\n",
    "        print('Moving to the elft direction')\n",
    "\n",
    "    def move_right(self) -> None:\n",
    "        print('Moving to the right direction')\n",
    "\n",
    "    def move_down(self) -> None:\n",
    "        print('Moving to the down direction')\n",
    "\n",
    "    def move_up(self) -> None:\n",
    "        print('Moving to the up direction')\n"
   ]
  },
  {
   "cell_type": "markdown",
   "metadata": {},
   "source": [
    "### Adapters por herança múltipla"
   ]
  },
  {
   "cell_type": "code",
   "execution_count": 5,
   "metadata": {},
   "outputs": [],
   "source": [
    "class GameControlAdapter(iGameControl, NewGameControl):\n",
    "    \"\"\"\n",
    "    Adaptador usando herança\n",
    "    \"\"\"\n",
    "    def left(self) -> None:\n",
    "        self.move_left()\n",
    "\n",
    "    def right(self) -> None:\n",
    "        self.move_right()\n",
    "\n",
    "    def down(self) -> None:\n",
    "        self.move_down()\n",
    "\n",
    "    def up(self) -> None:\n",
    "        self.move_up()"
   ]
  },
  {
   "cell_type": "markdown",
   "metadata": {},
   "source": [
    "### Adapter por composição"
   ]
  },
  {
   "cell_type": "code",
   "execution_count": 6,
   "metadata": {},
   "outputs": [],
   "source": [
    "class GameControlAdapter2:\n",
    "    \"\"\"\n",
    "    Adaptador usando composição\n",
    "    \"\"\"\n",
    "    def __init__(self, adaptee: NewGameControl):\n",
    "        self.adaptee = NewGameControl()\n",
    "\n",
    "    def left(self) -> None:\n",
    "        self.adaptee.move_left()\n",
    "\n",
    "    def right(self) -> None:\n",
    "        self.adaptee.move_right()\n",
    "\n",
    "    def down(self) -> None:\n",
    "        self.adaptee.move_down()\n",
    "\n",
    "    def up(self) -> None:\n",
    "        self.adaptee.move_up()"
   ]
  },
  {
   "cell_type": "markdown",
   "metadata": {},
   "source": [
    "### Código cliente: usa os mesmos nomes de métodos, mas que têm funcionalidades diferentes"
   ]
  },
  {
   "cell_type": "code",
   "execution_count": 7,
   "metadata": {},
   "outputs": [
    {
     "name": "stdout",
     "output_type": "stream",
     "text": [
      "Moving right\n",
      "Moving up\n",
      "Moving left\n",
      "Moving down\n",
      "\n",
      "Moving to the right direction\n",
      "Moving to the up direction\n",
      "Moving to the elft direction\n",
      "Moving to the down direction\n",
      "\n",
      "Moving to the right direction\n",
      "Moving to the up direction\n",
      "Moving to the elft direction\n",
      "Moving to the down direction\n"
     ]
    }
   ],
   "source": [
    "control = GameControl()\n",
    "\n",
    "new_control = GameControlAdapter()\n",
    "new_control2 = GameControlAdapter2(new_control)\n",
    "\n",
    "control.right()\n",
    "control.up()\n",
    "control.left()\n",
    "control.down()\n",
    "print()\n",
    "new_control.right()\n",
    "new_control.up()\n",
    "new_control.left()\n",
    "new_control.down()\n",
    "print()\n",
    "new_control2.right()\n",
    "new_control2.up()\n",
    "new_control2.left()\n",
    "new_control2.down()"
   ]
  }
 ],
 "metadata": {
  "kernelspec": {
   "display_name": "Python 3.7.4 64-bit ('venv': venv)",
   "language": "python",
   "name": "python37464bitvenvvenv2758d99790f94a86be18d18ad941cbc4"
  },
  "language_info": {
   "codemirror_mode": {
    "name": "ipython",
    "version": 3
   },
   "file_extension": ".py",
   "mimetype": "text/x-python",
   "name": "python",
   "nbconvert_exporter": "python",
   "pygments_lexer": "ipython3",
   "version": "3.7.4"
  }
 },
 "nbformat": 4,
 "nbformat_minor": 4
}
