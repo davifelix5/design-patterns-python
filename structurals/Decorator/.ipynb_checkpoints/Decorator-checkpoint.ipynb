{
 "cells": [
  {
   "cell_type": "markdown",
   "metadata": {},
   "source": [
    "# Decorator\n",
    "### Permite adicioanar novos comportamentos ao colocá-los dentro de um wrapper\n",
    "1. Permite que adicione novos comportamento a objetos ao colocá-lo em wrappers\n",
    "2. Alternativa mais flexível do que gerança para extensão de funcionalidades\n",
    "3. Além de implementar a interface do objeto a ser decorado, ele também recebe esse objeto por meio de composição, o que permite que as sejam delegadas funcionalidades de volta para o objeto decorado"
   ]
  },
  {
   "cell_type": "code",
   "execution_count": 6,
   "metadata": {},
   "outputs": [],
   "source": [
    "from __future__ import annotations\n",
    "from abc import ABC\n",
    "from copy import deepcopy\n",
    "from typing import List\n",
    "from dataclasses import dataclass\n"
   ]
  },
  {
   "cell_type": "markdown",
   "metadata": {},
   "source": [
    "### Definindo os ingredientes"
   ]
  },
  {
   "cell_type": "code",
   "execution_count": 7,
   "metadata": {},
   "outputs": [],
   "source": [
    "@dataclass\n",
    "class Ingredient:\n",
    "    price: float\n",
    "\n",
    "\n",
    "@dataclass\n",
    "class Bread(Ingredient):\n",
    "    price: float = 1.5\n",
    "\n",
    "\n",
    "@dataclass\n",
    "class Sausage(Ingredient):\n",
    "    price: float = 4.99\n",
    "\n",
    "\n",
    "@dataclass\n",
    "class Bacon(Ingredient):\n",
    "    price: float = 7.99\n",
    "\n",
    "\n",
    "@dataclass\n",
    "class Egg(Ingredient):\n",
    "    price: float = 1.5\n",
    "\n",
    "\n",
    "@dataclass\n",
    "class Cheese(Ingredient):\n",
    "    price: float = 6.35\n",
    "\n",
    "\n",
    "@dataclass\n",
    "class MachedPotatoes(Ingredient):\n",
    "    price: float = 2.25\n",
    "\n",
    "\n",
    "@dataclass\n",
    "class PotatoSticks(Ingredient):\n",
    "    price: float = .99\n"
   ]
  },
  {
   "cell_type": "markdown",
   "metadata": {},
   "source": [
    "### Definindo a classe abstrata dos objetos que serão decorados"
   ]
  },
  {
   "cell_type": "code",
   "execution_count": 8,
   "metadata": {},
   "outputs": [],
   "source": [
    "class Hotdog(ABC):\n",
    "    _name: str\n",
    "    _ingredients: List[Ingredient]\n",
    "\n",
    "    @property\n",
    "    def price(self) -> float:\n",
    "        return round(sum([\n",
    "            ingredient.price for ingredient in self.ingredients\n",
    "        ]), 2)\n",
    "\n",
    "    @property\n",
    "    def name(self) -> str:\n",
    "        return self._name\n",
    "\n",
    "    @property\n",
    "    def ingredients(self) -> List[Ingredient]:\n",
    "        return self._ingredients\n",
    "\n",
    "    def __str__(self) -> str:\n",
    "        return f'{self.name}({self.price}, {self.ingredients})'"
   ]
  },
  {
   "cell_type": "markdown",
   "metadata": {},
   "source": [
    "### Definindo as classes concretas dos objetos que serão decorados"
   ]
  },
  {
   "cell_type": "code",
   "execution_count": 9,
   "metadata": {},
   "outputs": [],
   "source": [
    "class SimpleHotdog(Hotdog):\n",
    "\n",
    "    def __init__(self):\n",
    "        self._name = 'SimpleHotdog'\n",
    "        self._ingredients = [Bread(), Sausage(), PotatoSticks()]\n",
    "\n",
    "        \n",
    "class SpecialHotdog(Hotdog):\n",
    "\n",
    "    def __init__(self):\n",
    "        self._name = 'SpecialHotdog'\n",
    "        self._ingredients = [\n",
    "            Bread(),\n",
    "            Sausage(),\n",
    "            PotatoSticks(),\n",
    "            Bacon(),\n",
    "            Egg(),\n",
    "            Cheese(),\n",
    "            MachedPotatoes(),\n",
    "        ]"
   ]
  },
  {
   "cell_type": "markdown",
   "metadata": {},
   "source": [
    "### Definindo o decorador"
   ]
  },
  {
   "cell_type": "code",
   "execution_count": 10,
   "metadata": {},
   "outputs": [],
   "source": [
    "class HotdogDecorator(Hotdog):\n",
    "\n",
    "    def __init__(self, hotdog: Hotdog, ingredient: Ingredient):\n",
    "        self.hotdog = hotdog\n",
    "        self._ingredient = ingredient\n",
    "\n",
    "        self._ingredients = deepcopy(self.hotdog.ingredients)\n",
    "        self._ingredients.append(self._ingredient)\n",
    "\n",
    "    @property\n",
    "    def price(self) -> float:\n",
    "        return round(sum([\n",
    "            ingredient.price for ingredient in self._ingredients\n",
    "        ]), 2)\n",
    "\n",
    "    @property\n",
    "    def name(self) -> str:\n",
    "        return f'{self.hotdog.name}+{self._ingredient.__class__.__name__}'\n",
    "\n",
    "    @property\n",
    "    def ingredients(self) -> List[Ingredient]:\n",
    "        return self._ingredients"
   ]
  },
  {
   "cell_type": "code",
   "execution_count": 11,
   "metadata": {},
   "outputs": [
    {
     "name": "stdout",
     "output_type": "stream",
     "text": [
      "SimpleHotdog(7.48, [Bread(price=1.5), Sausage(price=4.99), PotatoSticks(price=0.99)])\n",
      "SimpleHotdog+Bacon+Cheese(21.82, [Bread(price=1.5), Sausage(price=4.99), PotatoSticks(price=0.99), Bacon(price=7.99), Cheese(price=6.35)])\n"
     ]
    }
   ],
   "source": [
    "hotdog = SimpleHotdog()\n",
    "\n",
    "print(hotdog)\n",
    "\n",
    "hotdog_plus = HotdogDecorator(HotdogDecorator(hotdog, Bacon()), Cheese())\n",
    "print(hotdog_plus)"
   ]
  }
 ],
 "metadata": {
  "kernelspec": {
   "display_name": "Python 3",
   "language": "python",
   "name": "python3"
  },
  "language_info": {
   "codemirror_mode": {
    "name": "ipython",
    "version": 3
   },
   "file_extension": ".py",
   "mimetype": "text/x-python",
   "name": "python",
   "nbconvert_exporter": "python",
   "pygments_lexer": "ipython3",
   "version": "3.7.4"
  }
 },
 "nbformat": 4,
 "nbformat_minor": 4
}
