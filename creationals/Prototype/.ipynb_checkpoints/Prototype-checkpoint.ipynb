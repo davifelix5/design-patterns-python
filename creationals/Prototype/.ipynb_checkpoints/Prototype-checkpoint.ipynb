{
 "cells": [
  {
   "cell_type": "markdown",
   "metadata": {},
   "source": [
    "## Prototype\n",
    "\n",
    "<p>O prototype permite criar uma instância método em uma classe para criar cópias dessa instância que podem se copiar e\n"
   ]
  },
  {
   "cell_type": "markdown",
   "metadata": {},
   "source": [
    "Para poder fazer referências À classes que foram definidas posteriormente, eu posso fazer a importação que vem primeiro nesse arquivo, assim eu posso fazer o typehinting da class address antes de definí-la, como se fosse um içamento dessa classe para cima do código"
   ]
  },
  {
   "cell_type": "code",
   "execution_count": 42,
   "metadata": {},
   "outputs": [],
   "source": [
    "from __future__ import annotations\n",
    "from typing import List\n",
    "\n",
    "\n",
    "class Representation:\n",
    "\n",
    "    def __str__(self):\n",
    "        params = [f'{k}={v}' for k, v in self.__dict__.items()]\n",
    "        return f'{self.__class__.__name__}({f\", \".join(params)})'\n",
    "\n",
    "    def __repr__(self):\n",
    "        return self.__str__()"
   ]
  },
  {
   "cell_type": "code",
   "execution_count": 43,
   "metadata": {},
   "outputs": [],
   "source": [
    "class Person(Representation):\n",
    "\n",
    "    def __init__(self, name: str, lastname: str ,birth: int) -> None:\n",
    "        self.name = name\n",
    "        self.lastname = lastname\n",
    "        self.birth = birth\n",
    "        self.addresses: List[Address] = []\n",
    "\n",
    "    def add_address(self, address: Address):\n",
    "        self.addresses.append(address)"
   ]
  },
  {
   "cell_type": "code",
   "execution_count": 44,
   "metadata": {},
   "outputs": [],
   "source": [
    "class Address(Representation):\n",
    "    def __init__(self, street: str, number: str):\n",
    "        self.street = street\n",
    "        self.number = number"
   ]
  },
  {
   "cell_type": "code",
   "execution_count": 45,
   "metadata": {},
   "outputs": [],
   "source": [
    "davi = Person('Davi', 'Felix', 2003)\n",
    "davi_address = Address('Av. 9 de Julho', '2005')\n",
    "davi.add_address(davi_address)"
   ]
  },
  {
   "cell_type": "code",
   "execution_count": 47,
   "metadata": {},
   "outputs": [
    {
     "data": {
      "text/plain": [
       "Person(name=Davi, lastname=Felix, birth=2003, addresses=[Address(street=Av. 9 de Julho, number=2005)])"
      ]
     },
     "execution_count": 47,
     "metadata": {},
     "output_type": "execute_result"
    }
   ],
   "source": [
    "davi"
   ]
  },
  {
   "cell_type": "markdown",
   "metadata": {},
   "source": [
    "<hr>\n",
    "Para criar a esposa do Davi, que terá o mesmo sobrenome e o mesmo enderço, definir novamente todos os dados seria muito difícil\n",
    "Por isso, usa-se esse atalho:\n",
    "<hr>"
   ]
  },
  {
   "cell_type": "code",
   "execution_count": 48,
   "metadata": {},
   "outputs": [],
   "source": [
    "esposa_davi = davi\n",
    "esposa_davi.name = 'Isabela'"
   ]
  },
  {
   "cell_type": "code",
   "execution_count": 50,
   "metadata": {},
   "outputs": [
    {
     "data": {
      "text/plain": [
       "Person(name=Isabela, lastname=Felix, birth=2003, addresses=[Address(street=Av. 9 de Julho, number=2005)])"
      ]
     },
     "execution_count": 50,
     "metadata": {},
     "output_type": "execute_result"
    }
   ],
   "source": [
    "davi"
   ]
  },
  {
   "cell_type": "code",
   "execution_count": 51,
   "metadata": {},
   "outputs": [
    {
     "data": {
      "text/plain": [
       "Person(name=Isabela, lastname=Felix, birth=2003, addresses=[Address(street=Av. 9 de Julho, number=2005)])"
      ]
     },
     "execution_count": 51,
     "metadata": {},
     "output_type": "execute_result"
    }
   ],
   "source": [
    "esposa_davi"
   ]
  },
  {
   "cell_type": "markdown",
   "metadata": {},
   "source": [
    "Mudou nos dois, porque ambos ficaram apontando para o mesmo ponto na memória\n",
    "Para resolver isso, usa-se um recurso do Python para fazer uma deepcopy, definindo um método clone para clonar objetos"
   ]
  },
  {
   "cell_type": "code",
   "execution_count": 88,
   "metadata": {},
   "outputs": [],
   "source": [
    "class Person(Representation):\n",
    "\n",
    "    def __init__(self, name: str, lastname: str ,birth: int) -> None:\n",
    "        self.name = name\n",
    "        self.lastname = lastname\n",
    "        self.birth = birth\n",
    "        self.addresses: List[Address] = []\n",
    "\n",
    "    def add_address(self, address: Address):\n",
    "        self.addresses.append(address)\n",
    "        \n",
    "    def clone(self, **kwargs) -> Person:\n",
    "        from copy import deepcopy\n",
    "        copied = deepcopy(self)\n",
    "        copied.__dict__.update(kwargs)\n",
    "        return copied\n"
   ]
  },
  {
   "cell_type": "markdown",
   "metadata": {},
   "source": [
    "Aqui, eu defino um método clone que irá clonar o objeto person e redefinirá os atributos passados como argumentos nomeados\n",
    "Assim, se eu precisar definir <strong>um objeto semelhante</strong> com apenas <strong>poucos atributos redefinidos</strong>, é so usar esse método"
   ]
  },
  {
   "cell_type": "code",
   "execution_count": 84,
   "metadata": {},
   "outputs": [],
   "source": [
    "davi = Person('Davi', 'Felix', '2005')\n",
    "davi_address = Address('Av. 9 de Julho', '2005')\n",
    "davi.add_address(davi_address)"
   ]
  },
  {
   "cell_type": "markdown",
   "metadata": {},
   "source": [
    "Implementando a esposa do Davi:"
   ]
  },
  {
   "cell_type": "code",
   "execution_count": 90,
   "metadata": {},
   "outputs": [],
   "source": [
    "esposa_davi = davi.clone(name='Isabella')"
   ]
  },
  {
   "cell_type": "code",
   "execution_count": null,
   "metadata": {},
   "outputs": [],
   "source": [
    "Visualizando o resultado:"
   ]
  },
  {
   "cell_type": "code",
   "execution_count": 86,
   "metadata": {},
   "outputs": [
    {
     "data": {
      "text/plain": [
       "Person(name=Davi, lastname=Felix, birth=2005, addresses=[Address(street=Av. 9 de Julho, number=2005)])"
      ]
     },
     "execution_count": 86,
     "metadata": {},
     "output_type": "execute_result"
    }
   ],
   "source": [
    "davi"
   ]
  },
  {
   "cell_type": "code",
   "execution_count": 91,
   "metadata": {},
   "outputs": [
    {
     "data": {
      "text/plain": [
       "Person(name=Isabella, lastname=Felix, birth=2005, addresses=[Address(street=Av. 9 de Julho, number=2005)])"
      ]
     },
     "execution_count": 91,
     "metadata": {},
     "output_type": "execute_result"
    }
   ],
   "source": [
    "esposa_davi"
   ]
  },
  {
   "cell_type": "markdown",
   "metadata": {},
   "source": [
    "A esposa do Davi, tem apenas o primeiro nome diferente, ou seja, sendo <strong>implementada em apenas uma linha</strong>"
   ]
  }
 ],
 "metadata": {
  "kernelspec": {
   "display_name": "Python 3",
   "language": "python",
   "name": "python3"
  },
  "language_info": {
   "codemirror_mode": {
    "name": "ipython",
    "version": 3
   },
   "file_extension": ".py",
   "mimetype": "text/x-python",
   "name": "python",
   "nbconvert_exporter": "python",
   "pygments_lexer": "ipython3",
   "version": "3.7.4"
  }
 },
 "nbformat": 4,
 "nbformat_minor": 4
}
