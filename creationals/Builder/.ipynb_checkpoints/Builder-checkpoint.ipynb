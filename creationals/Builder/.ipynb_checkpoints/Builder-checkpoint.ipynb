{
 "cells": [
  {
   "attachments": {
    "image.png": {
     "image/png": "[encoded data removed]"
    }
   },
   "cell_type": "markdown",
   "metadata": {},
   "source": [
    "# Padrão Builder\n",
    "\n",
    "### Permite criar objetos de forma versátil, definindo diversas formas diferentes de criar objetos com diferenres valores de atributos\n",
    "\n",
    "![image.png](attachment:image.png)\n",
    "\n",
    "## Classes que devem ser definidas\n",
    "\n",
    "1. Classe do objeto que se deseja criar, com os atributo definidos como None\n",
    "2. Interface da classe Builder, que terá métodos abstratos para adicionar os atributos.\n",
    "3. Criação de uma classe Builder concreta, na qual irá ser definida uma instância da classe que se deseja criar, implementando os métodos que irão setar os atributos de forma personalizada.\n",
    "4. Criaçãoo de uma classe Director que irá receber um builder e implementar os atributos dessa classe de acordo com os métodos definidos anteriormente"
   ]
  },
  {
   "cell_type": "code",
   "execution_count": 1,
   "metadata": {},
   "outputs": [],
   "source": [
    "from abc import ABC, abstractmethod"
   ]
  },
  {
   "cell_type": "code",
   "execution_count": 2,
   "metadata": {},
   "outputs": [],
   "source": [
    "class Representarion:\n",
    "\n",
    "    def __str__(self):\n",
    "        params = [f'{k}={v}' for k, v in self.__dict__.items()]\n",
    "        return f'{self.__class__.__name__}({\", \".join(params)})'\n",
    "\n",
    "    def __repr__(self):\n",
    "        return self.__str__()"
   ]
  },
  {
   "cell_type": "code",
   "execution_count": 3,
   "metadata": {},
   "outputs": [],
   "source": [
    "class User(Representarion):\n",
    "    def __init__(self):\n",
    "        self.firstname = None\n",
    "        self.lastname = None\n",
    "        self.birth = None\n",
    "        self.phonenumbers = []\n",
    "        self.addresses = []"
   ]
  },
  {
   "cell_type": "code",
   "execution_count": 4,
   "metadata": {},
   "outputs": [],
   "source": [
    "class iUserBuilder(ABC):\n",
    "    @property\n",
    "    @abstractmethod\n",
    "    def result(self): pass\n",
    "\n",
    "    @abstractmethod\n",
    "    def add_firstname(self, firstname: str): pass\n",
    "\n",
    "    @abstractmethod\n",
    "    def add_lastname(self, lastname: str): pass\n",
    "\n",
    "    @abstractmethod\n",
    "    def add_birth(self, birth: int): pass\n",
    "\n",
    "    @abstractmethod\n",
    "    def add_phonenumber(self, phonenumber: str): pass\n",
    "\n",
    "    @abstractmethod\n",
    "    def add_address(self, address: str): pass"
   ]
  },
  {
   "cell_type": "code",
   "execution_count": 5,
   "metadata": {},
   "outputs": [],
   "source": [
    "class UserBuilder(iUserBuilder):\n",
    "    def __init__(self):\n",
    "        self.reset()\n",
    "\n",
    "    def reset(self):\n",
    "        self._result = User()\n",
    "\n",
    "    def get_result(self) -> User:\n",
    "        return self._result\n",
    "\n",
    "    def add_firstname(self, firstname: str):\n",
    "        self._result.firstname = firstname\n",
    "        return self\n",
    "\n",
    "    def add_lastname(self, lastname: str):\n",
    "        self._result.lastname = lastname\n",
    "        return self\n",
    "\n",
    "    def add_birth(self, birth: int):\n",
    "        self._result.birth = birth\n",
    "        return self\n",
    "\n",
    "    def add_phonenumber(self, phonenumber: str):\n",
    "        self._result.phonenumbers.append(phonenumber)\n",
    "        return self\n",
    "\n",
    "    def add_address(self, address: str):\n",
    "        self._result.addresses.append(address)\n",
    "        return self\n",
    "\n",
    "    @property\n",
    "    def result(self):\n",
    "        return_data = self._result\n",
    "        self.reset()\n",
    "        return return_data"
   ]
  },
  {
   "cell_type": "code",
   "execution_count": 6,
   "metadata": {},
   "outputs": [],
   "source": [
    "class UserDirector:\n",
    "    def __init__(self, builder: UserBuilder):\n",
    "        self._builder = builder\n",
    "\n",
    "    def user_from_age(self, firstname: str, lastname: str, age: int):\n",
    "        from datetime import datetime\n",
    "        current_year = datetime.now().year\n",
    "        birth = current_year - age\n",
    "\n",
    "        self._builder.add_firstname(firstname)\\\n",
    "            .add_lastname(lastname)\\\n",
    "            .add_birth(birth)\n",
    "\n",
    "        return self._builder.result\n",
    "\n",
    "    def with_address(self, firstname, lastname, address):\n",
    "        self._builder.add_firstname(firstname)\\\n",
    "            .add_lastname(lastname)\\\n",
    "            .add_address(address)\n",
    "        return self._builder.result"
   ]
  },
  {
   "cell_type": "code",
   "execution_count": 7,
   "metadata": {},
   "outputs": [
    {
     "name": "stdout",
     "output_type": "stream",
     "text": [
      "User(firstname=Davi, lastname=Felix, birth=2004, phonenumbers=[], addresses=[])\n",
      "User(firstname=Davi, lastname=Felix, birth=None, phonenumbers=[], addresses=['Avenida 9 de Julho'])\n"
     ]
    }
   ],
   "source": [
    "user_builder = UserBuilder()\n",
    "user_director = UserDirector(user_builder)\n",
    "user1 = user_director.user_from_age('Davi', 'Felix', 16)\n",
    "user2 = user_director.with_address('Davi', 'Felix', 'Avenida 9 de Julho')\n",
    "print(user1)\n",
    "print(user2)"
   ]
  }
 ],
 "metadata": {
  "kernelspec": {
   "display_name": "Python 3.7.4 64-bit ('venv': venv)",
   "language": "python",
   "name": "python37464bitvenvvenv2758d99790f94a86be18d18ad941cbc4"
  },
  "language_info": {
   "codemirror_mode": {
    "name": "ipython",
    "version": 3
   },
   "file_extension": ".py",
   "mimetype": "text/x-python",
   "name": "python",
   "nbconvert_exporter": "python",
   "pygments_lexer": "ipython3",
   "version": "3.7.4"
  }
 },
 "nbformat": 4,
 "nbformat_minor": 4
}
